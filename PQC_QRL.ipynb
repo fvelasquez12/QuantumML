{
 "cells": [
  {
   "cell_type": "code",
   "execution_count": 119,
   "source": [
    "import qiskit\r\n",
    "from qiskit import Aer\r\n",
    "from qiskit.circuit import QuantumCircuit, QuantumRegister, ClassicalRegister, Parameter, ParameterVector, ParameterExpression\r\n",
    "from qiskit.circuit.library import TwoLocal\r\n",
    "from qiskit.utils import QuantumInstance\r\n",
    "from qiskit_machine_learning.neural_networks import CircuitQNN\r\n",
    "from qiskit_machine_learning.connectors import TorchConnector\r\n",
    "\r\n",
    "import time\r\n",
    "\r\n",
    "import numpy as np\r\n",
    "\r\n",
    "import random\r\n",
    "\r\n",
    "import gym\r\n",
    "from gym import wrappers\r\n",
    "import random\r\n",
    "import math\r\n",
    "import torch\r\n",
    "import torch.nn as nn\r\n",
    "import torch.optim as optim\r\n",
    "from torch.autograd import Variable\r\n",
    "import torch.nn.functional as F\r\n",
    "from torch import Tensor\r\n",
    "from torch.nn import MSELoss\r\n",
    "from torch.optim import LBFGS, SGD, Adam, RMSprop\r\n",
    "import matplotlib.pyplot as plt\r\n",
    "\r\n",
    "from collections import deque\r\n",
    "\r\n",
    "from IPython import display"
   ],
   "outputs": [],
   "metadata": {}
  },
  {
   "cell_type": "markdown",
   "source": [
    "# Global Parameters"
   ],
   "metadata": {}
  },
  {
   "cell_type": "code",
   "execution_count": 120,
   "source": [
    "# PQC hyper parameters\r\n",
    "NUM_QUBITS = 4 # num_states = num_qubits\r\n",
    "NUM_ACTIONS = 2 # number of actions\r\n",
    "REP = 2 # number of PQC blocks"
   ],
   "outputs": [],
   "metadata": {}
  },
  {
   "cell_type": "code",
   "execution_count": 121,
   "source": [
    "# Training hyper parameters\r\n",
    "EPISODES = 200  # number of episodes\r\n",
    "EPS_START = 0.9  # e-greedy threshold start value\r\n",
    "EPS_END = 0.05  # e-greedy threshold end value\r\n",
    "EPS_DECAY = 200  # e-greedy threshold decay\r\n",
    "GAMMA = 0.8  # Q-learning discount factor\r\n",
    "LR = 0.001  # NN optimizer learning rate\r\n",
    "BATCH_SIZE = 64  # Q-learning batch size"
   ],
   "outputs": [],
   "metadata": {}
  },
  {
   "cell_type": "markdown",
   "source": [
    "# Parametrized Quantum Circuit (PQC)"
   ],
   "metadata": {}
  },
  {
   "cell_type": "markdown",
   "source": [
    "The PQC that encodes the policy for training."
   ],
   "metadata": {}
  },
  {
   "cell_type": "code",
   "execution_count": 122,
   "source": [
    "def pqc(num_qubits, num_layers, insert_barriers=True):\r\n",
    "    qr = QuantumRegister(num_qubits)\r\n",
    "    qc = QuantumCircuit(qr)\r\n",
    "\r\n",
    "    # input state params\r\n",
    "    s_params = ParameterVector('s', num_qubits)\r\n",
    "\r\n",
    "    # encoding params for training\r\n",
    "    enc_params = ParameterVector('λ', 2*num_qubits*num_layers)\r\n",
    "\r\n",
    "    # entangling params for training\r\n",
    "    ent_params = ParameterVector('Φ', 2*num_qubits*num_layers)\r\n",
    "\r\n",
    "    for l in range(num_layers):\r\n",
    "        # construct add encoding layer\r\n",
    "        for q in range(num_qubits):\r\n",
    "            qc.ry(s_params[q] * enc_params[q + 2*num_qubits*l], q)\r\n",
    "            qc.rz(s_params[q] * enc_params[q + 2*num_qubits*l + num_qubits], q)\r\n",
    "        \r\n",
    "        if insert_barriers: qc.barrier()\r\n",
    "\r\n",
    "        # construct and add entangling layer\r\n",
    "        for q in range(num_qubits):\r\n",
    "            qc.ry(ent_params[q + 2*num_qubits*l], q)\r\n",
    "            qc.rz(ent_params[q + 2*num_qubits*l + num_qubits], q)\r\n",
    "\r\n",
    "        if insert_barriers: qc.barrier()\r\n",
    "\r\n",
    "        # construct and add add circular entangler\r\n",
    "        qc.cz(qr[-1], qr[0])\r\n",
    "        for q in range(num_qubits-1):\r\n",
    "            qc.cz(qr[q], qr[q+1])\r\n",
    "        \r\n",
    "        if insert_barriers: qc.barrier()\r\n",
    "    \r\n",
    "    return qc, s_params, enc_params, ent_params"
   ],
   "outputs": [],
   "metadata": {}
  },
  {
   "cell_type": "code",
   "execution_count": 123,
   "source": [
    "qc, s_params, enc_params, ent_params = pqc(NUM_QUBITS, REP)\r\n",
    "qc.draw(\"mpl\")"
   ],
   "outputs": [
    {
     "output_type": "execute_result",
     "data": {
      "image/png": "[encoded data removed]",
      "text/plain": [
       "<Figure size 1597.32x264.88 with 1 Axes>"
      ]
     },
     "metadata": {},
     "execution_count": 123
    }
   ],
   "metadata": {}
  },
  {
   "cell_type": "code",
   "execution_count": 124,
   "source": [
    "# define quantum instances (statevector and sample based)\r\n",
    "qi_sv = QuantumInstance(Aer.get_backend('aer_simulator_statevector'))\r\n",
    "\r\n",
    "# create a Quantum Neural Network object\r\n",
    "qnn = CircuitQNN(qc, input_params=s_params, weight_params=[*ent_params, *enc_params], quantum_instance=qi_sv)\r\n",
    "\r\n",
    "# connect to PyTorch\r\n",
    "initial_weights = 2*np.random.rand(qnn.num_weights) - 1\r\n",
    "quantum_nn = TorchConnector(qnn, initial_weights)"
   ],
   "outputs": [],
   "metadata": {}
  },
  {
   "cell_type": "markdown",
   "source": [
    "# Observable Layer"
   ],
   "metadata": {}
  },
  {
   "cell_type": "markdown",
   "source": [
    "A layer that defines the way of extracting information from the circuit. It maps the projective measurement results into linear combination of Hermitian observables (could be extended to POVM)."
   ],
   "metadata": {}
  },
  {
   "cell_type": "code",
   "execution_count": 125,
   "source": [
    "# Raw VQC splitting qubits evenly for different actions.\r\n",
    "class raw_split(torch.nn.Module):\r\n",
    "    def __init__(self, num_qubits=NUM_QUBITS, num_actions=NUM_ACTIONS):\r\n",
    "        super().__init__()\r\n",
    "        assert num_qubits % num_actions == 0, \"number of actions must divide number of qubits\"\r\n",
    "\r\n",
    "        # Define the weights for the layer\r\n",
    "        weights = torch.Tensor(num_actions)\r\n",
    "        self.weights = torch.nn.Parameter(weights)\r\n",
    "        torch.nn.init.uniform_(self.weights, *[35 for _ in range(num_actions)])\r\n",
    "\r\n",
    "        # Define obeservables, splitting qubits evenly to each action\r\n",
    "        mask_arrays = [np.zeros(2**num_qubits) for _ in range(num_actions)]\r\n",
    "        action_qubits = num_qubits // num_actions\r\n",
    "        for i in range(2**num_qubits):\r\n",
    "            bs = list(format(i, f'0{num_qubits}b'))[::-1] #reverse to match qiskit endian\r\n",
    "            for j in range(num_actions):\r\n",
    "                maskj_bs = bs[j*action_qubits:(j+1)*action_qubits]\r\n",
    "                parity = sum([int(b) for b in maskj_bs]) % 2\r\n",
    "                mask_arrays[j][i] = -2*parity + 1 #0 -> 1, 1 -> -1\r\n",
    "        self.masks = [torch.tensor(a, requires_grad=False) for a in mask_arrays]\r\n",
    "    \r\n",
    "    def forward(self, x):\r\n",
    "        # single\r\n",
    "        if len(x.shape) == 1:\r\n",
    "            exps = [torch.sum(maskj*x) for maskj in self.masks]\r\n",
    "            outputs = torch.cat(tuple(e.unsqueeze(0) for e in exps))\r\n",
    "            return (self.weights * ((outputs + 1.) / 2.)).view(1, -1)\r\n",
    "        # batch\r\n",
    "        else:\r\n",
    "            exps = [torch.sum(maskj*x, dim = 1, keepdim = True) for maskj in self.masks]\r\n",
    "            outputs = torch.cat(tuple(exps), 1)\r\n",
    "            return self.weights * ((outputs + 1.) / 2.)"
   ],
   "outputs": [],
   "metadata": {}
  },
  {
   "cell_type": "code",
   "execution_count": 126,
   "source": [
    "observable_layer = raw_split(NUM_QUBITS, NUM_ACTIONS)"
   ],
   "outputs": [],
   "metadata": {}
  },
  {
   "cell_type": "markdown",
   "source": [
    "# Final Quantum Model"
   ],
   "metadata": {}
  },
  {
   "cell_type": "code",
   "execution_count": 127,
   "source": [
    "quantum_model = torch.nn.Sequential(quantum_nn, observable_layer)"
   ],
   "outputs": [],
   "metadata": {}
  },
  {
   "cell_type": "markdown",
   "source": [
    "# Train Cartpole-V1 with Quantum Policy"
   ],
   "metadata": {}
  },
  {
   "cell_type": "code",
   "execution_count": 130,
   "source": [
    "# if gpu is to be used\r\n",
    "use_cuda = torch.cuda.is_available()\r\n",
    "FloatTensor = torch.cuda.FloatTensor if use_cuda else torch.FloatTensor\r\n",
    "LongTensor = torch.cuda.LongTensor if use_cuda else torch.LongTensor\r\n",
    "ByteTensor = torch.cuda.ByteTensor if use_cuda else torch.ByteTensor\r\n",
    "Tensor = FloatTensor\r\n",
    "\r\n",
    "class ReplayMemory:\r\n",
    "    def __init__(self, capacity):\r\n",
    "        self.capacity = capacity\r\n",
    "        self.memory = []\r\n",
    "\r\n",
    "    def push(self, transition):\r\n",
    "        self.memory.append(transition)\r\n",
    "        if len(self.memory) > self.capacity:\r\n",
    "            del self.memory[0]\r\n",
    "\r\n",
    "    def sample(self, batch_size):\r\n",
    "        return random.sample(self.memory, batch_size)\r\n",
    "\r\n",
    "    def __len__(self):\r\n",
    "        return len(self.memory)\r\n",
    "\r\n",
    "env = gym.make('CartPole-v0')\r\n",
    "env = wrappers.Monitor(env, f'./tmp/cartpole-v0-1_{time.time()}')\r\n",
    "\r\n",
    "model = torch.nn.Sequential(quantum_nn, observable_layer)\r\n",
    "if use_cuda:\r\n",
    "    model.cuda()\r\n",
    "memory = ReplayMemory(10000)\r\n",
    "optimizer = optim.Adam(model.parameters(), LR)\r\n",
    "steps_done = 0\r\n",
    "episode_durations = []\r\n",
    "\r\n",
    "def select_action(state):\r\n",
    "    global steps_done\r\n",
    "    sample = random.random()\r\n",
    "    eps_threshold = EPS_END + (EPS_START - EPS_END) * math.exp(-1. * steps_done / EPS_DECAY)\r\n",
    "    steps_done += 1\r\n",
    "    if sample > eps_threshold:\r\n",
    "        with torch.no_grad():\r\n",
    "            return model(Variable(state).type(FloatTensor)).data.max(1)[1].view(1, 1)\r\n",
    "    else:\r\n",
    "        return LongTensor([[random.randrange(2)]])\r\n",
    "\r\n",
    "\r\n",
    "def run_episode(e, environment):\r\n",
    "    state = environment.reset()\r\n",
    "    steps = 0\r\n",
    "    while True:\r\n",
    "        environment.render()\r\n",
    "        action = select_action(FloatTensor([state]))\r\n",
    "        next_state, reward, done, _ = environment.step(action[0, 0].item())\r\n",
    "\r\n",
    "        # negative reward when attempt ends\r\n",
    "        if done:\r\n",
    "            reward = -1\r\n",
    "\r\n",
    "        memory.push((FloatTensor([state]),\r\n",
    "                     action,  # action is already a tensor\r\n",
    "                     FloatTensor([next_state]),\r\n",
    "                     FloatTensor([reward])))\r\n",
    "\r\n",
    "        learn()\r\n",
    "\r\n",
    "        state = next_state\r\n",
    "        steps += 1\r\n",
    "\r\n",
    "        if done:\r\n",
    "            print(\"{2} Episode {0} finished after {1} steps\"\r\n",
    "                  .format(e, steps, '\\033[92m' if steps >= 195 else '\\033[99m'))\r\n",
    "            episode_durations.append(steps)\r\n",
    "            plot_durations()\r\n",
    "            break\r\n",
    "\r\n",
    "\r\n",
    "def learn():\r\n",
    "    if len(memory) < BATCH_SIZE:\r\n",
    "        return\r\n",
    "\r\n",
    "    # random transition batch is taken from experience replay memory\r\n",
    "    transitions = memory.sample(BATCH_SIZE)\r\n",
    "    batch_state, batch_action, batch_next_state, batch_reward = zip(*transitions)\r\n",
    "\r\n",
    "    batch_state = Variable(torch.cat(batch_state))\r\n",
    "    batch_action = Variable(torch.cat(batch_action))\r\n",
    "    batch_reward = Variable(torch.cat(batch_reward))\r\n",
    "    batch_next_state = Variable(torch.cat(batch_next_state))\r\n",
    "\r\n",
    "    # current Q values are estimated by NN for all actions\r\n",
    "    current_q_values = model(batch_state).gather(1, batch_action)\r\n",
    "    # expected Q values are estimated from actions which gives maximum Q value\r\n",
    "    max_next_q_values = model(batch_next_state).detach().max(1)[0]\r\n",
    "    expected_q_values = batch_reward + (GAMMA * max_next_q_values)\r\n",
    "\r\n",
    "    # loss is measured from error between current and newly expected Q values\r\n",
    "    loss = F.smooth_l1_loss(current_q_values, expected_q_values)\r\n",
    "\r\n",
    "    # backpropagation of loss to NN\r\n",
    "    optimizer.zero_grad()\r\n",
    "    loss.backward()\r\n",
    "    optimizer.step()\r\n",
    "\r\n",
    "\r\n",
    "def plot_durations():\r\n",
    "    plt.figure(2)\r\n",
    "    plt.clf()\r\n",
    "    durations_t = torch.FloatTensor(episode_durations)\r\n",
    "    plt.title('Training...')\r\n",
    "    plt.xlabel('Episode')\r\n",
    "    plt.ylabel('Duration')\r\n",
    "    plt.plot(durations_t.numpy())\r\n",
    "    # take 100 episode averages and plot them too\r\n",
    "    if len(durations_t) >= 100:\r\n",
    "        means = durations_t.unfold(0, 100, 1).mean(1).view(-1)\r\n",
    "        means = torch.cat((torch.zeros(99), means))\r\n",
    "        plt.plot(means.numpy())\r\n",
    "\r\n",
    "    plt.pause(0.001)  # pause a bit so that plots are updated\r\n",
    "\r\n",
    "\r\n",
    "for e in range(EPISODES):\r\n",
    "    run_episode(e, env)\r\n",
    "\r\n",
    "print('Complete')\r\n",
    "env.render(close=True)\r\n",
    "env.close()\r\n",
    "plt.ioff()\r\n",
    "plt.show()"
   ],
   "outputs": [
    {
     "output_type": "stream",
     "name": "stdout",
     "text": [
      "\u001b[99m Episode 0 finished after 15 steps\n"
     ]
    },
    {
     "output_type": "display_data",
     "data": {
      "image/png": "[encoded data removed]",
      "text/plain": [
       "<Figure size 432x288 with 1 Axes>"
      ]
     },
     "metadata": {
      "needs_background": "light"
     }
    },
    {
     "output_type": "stream",
     "name": "stdout",
     "text": [
      "\u001b[99m Episode 1 finished after 35 steps\n"
     ]
    },
    {
     "output_type": "display_data",
     "data": {
      "image/png": "[encoded data removed]",
      "text/plain": [
       "<Figure size 432x288 with 1 Axes>"
      ]
     },
     "metadata": {
      "needs_background": "light"
     }
    }
   ],
   "metadata": {}
  }
 ],
 "metadata": {
  "orig_nbformat": 4,
  "language_info": {
   "name": "python",
   "version": "3.7.4",
   "mimetype": "text/x-python",
   "codemirror_mode": {
    "name": "ipython",
    "version": 3
   },
   "pygments_lexer": "ipython3",
   "nbconvert_exporter": "python",
   "file_extension": ".py"
  },
  "kernelspec": {
   "name": "python3",
   "display_name": "Python 3.7.4 64-bit"
  },
  "interpreter": {
   "hash": "04635d289a519a1410467dd0afb0db42f9184808881ca68b2eb5a687a20a5a94"
  }
 },
 "nbformat": 4,
 "nbformat_minor": 2
}